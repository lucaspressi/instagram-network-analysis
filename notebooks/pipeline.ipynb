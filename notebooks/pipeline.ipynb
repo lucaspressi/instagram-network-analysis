{
 "cells": [
  {
   "cell_type": "markdown",
   "metadata": {},
   "source": [
    "# Instagram Network Analysis - Main Pipeline\n",
    "\n",
    "This notebook implements the main pipeline for analyzing Instagram follower networks. It collects followers from a target Instagram profile, analyzes who they follow, and generates insights about the most influential accounts in this network.\n",
    "\n",
    "## Setup and Configuration\n",
    "\n",
    "First, let's set up the environment and install required dependencies."
   ]
  },
  {
   "cell_type": "code",
   "execution_count": null,
   "metadata": {},
   "source": [
    "# Install required packages\n",
    "!pip install -q requests pandas numpy matplotlib seaborn networkx scikit-learn aiohttp asyncio tqdm"
   ]
  },
  {
   "cell_type": "code",
   "execution_count": null,
   "metadata": {},
   "source": [
    "# Clone the repository\n",
    "!git clone https://github.com/your-username/instagram-network-analysis.git\n",
    "%cd instagram-network-analysis"
   ]
  },
  {
   "cell_type": "markdown",
   "metadata": {},
   "source": [
    "## Import Modules\n",
    "\n",
    "Now let's import the necessary modules for our analysis."
   ]
  },
  {
   "cell_type": "code",
   "execution_count": null,
   "metadata": {},
   "source": [
    "import os\n",
    "import sys\n",
    "import json\n",
    "import asyncio\n",
    "import pandas as pd\n",
    "import numpy as np\n",
    "import matplotlib.pyplot as plt\n",
    "import seaborn as sns\n",
    "from datetime import datetime\n",
    "from pathlib import Path\n",
    "from tqdm.notebook import tqdm\n",
    "\n",
    "# Add project root to path\n",
    "sys.path.append('.')\n",
    "\n",
    "# Import project modules\n",
    "from config.settings import INSTAGRAM, STORAGE, PROCESSING, VISUALIZATION\n",
    "from config.logging_config import setup_logging, get_logger\n",
    "from src.utils.auth import InstagramAuth\n",
    "from src.utils.storage import DataStorage\n",
    "from src.collectors.follower_collector import FollowerCollector\n",
    "from src.collectors.following_collector import FollowingCollector\n",
    "from src.processors.network_processor import NetworkProcessor\n",
    "from src.visualizers.network_visualizer import NetworkVisualizer\n",
    "\n",
    "# Set up logging\n",
    "logger = setup_logging(log_dir='logs')"
   ]
  },
  {
   "cell_type": "markdown",
   "metadata": {},
   "source": [
    "## Google Cloud Storage Integration (Optional)\n",
    "\n",
    "If you want to save data to Google Cloud Storage, you can configure it here."
   ]
  },
  {
   "cell_type": "code",
   "execution_count": null,
   "metadata": {},
   "source": [
    "# Mount Google Drive (if using Colab)\n",
    "from google.colab import drive\n",
    "drive.mount('/content/drive')\n",
    "\n",
    "# Configure GCS (optional)\n",
    "USE_GCS = False  # Set to True to enable GCS integration\n",
    "\n",
    "if USE_GCS:\n",
    "    # Install GCS libraries\n",
    "    !pip install -q google-cloud-storage\n",
    "    \n",
    "    # Update settings\n",
    "    STORAGE['GCS']['ENABLED'] = True\n",
    "    STORAGE['GCS']['BUCKET_NAME'] = 'your-bucket-name'\n",
    "    STORAGE['GCS']['PROJECT_ID'] = 'your-project-id'\n",
    "    \n",
    "    # Path to credentials file (if needed)\n",
    "    STORAGE['GCS']['CREDENTIALS_FILE'] = '/content/drive/MyDrive/path/to/credentials.json'"
   ]
  },
  {
   "cell_type": "markdown",
   "metadata": {},
   "source": [
    "## Authentication Setup\n",
    "\n",
    "Set up authentication with Instagram using a session cookie."
   ]
  },
  {
   "cell_type": "code",
   "execution_count": null,
   "metadata": {},
   "source": [
    "# Function to get session cookie from user\n",
    "def get_session_cookie():\n",
    "    from IPython.display import display, HTML\n",
    "    from ipywidgets import widgets\n",
    "    \n",
    "    print(\"\\nInstructions to get your Instagram session cookie:\")\n",
    "    print(\"1. Log in to Instagram in your browser\")\n",
    "    print(\"2. Open developer tools (F12 or right-click > Inspect)\")\n",
    "    print(\"3. Go to the 'Application' or 'Storage' tab\")\n",
    "    print(\"4. Under 'Cookies', find 'instagram.com'\")\n",
    "    print(\"5. Find the 'sessionid' cookie and copy its value\")\n",
    "    print(\"\\nIMPORTANT: Keep this value private and do not share it with anyone!\\n\")\n",
    "    \n",
    "    cookie_input = widgets.Password(description='Session Cookie:', style={'description_width': 'initial'}, layout={'width': '500px'})\n",
    "    display(cookie_input)\n",
    "    \n",
    "    return cookie_input\n",
    "\n",
    "# Get session cookie\n",
    "cookie_input = get_session_cookie()"
   ]
  },
  {
   "cell_type": "code",
   "execution_count": null,
   "metadata": {},
   "source": [
    "# Initialize authentication with the session cookie\n",
    "session_cookie = cookie_input.value\n",
    "\n",
    "# Create auth instance\n",
    "auth = InstagramAuth(session_cookie=session_cookie)\n",
    "\n",
    "# Validate authentication\n",
    "if auth.validate_auth():\n",
    "    print(\"✅ Authentication successful!\")\n",
    "else:\n",
    "    print(\"❌ Authentication failed. Please check your session cookie and try again.\")"
   ]
  },
  {
   "cell_type": "markdown",
   "metadata": {},
   "source": [
    "## Initialize Storage\n",
    "\n",
    "Set up storage for data collection and processing."
   ]
  },
  {
   "cell_type": "code",
   "execution_count": null,
   "metadata": {},
   "source": [
    "# Initialize storage\n",
    "storage = DataStorage(base_dir='.', use_gcs=USE_GCS)\n",
    "\n",
    "# Create directories if they don't exist\n",
    "for directory in ['data/raw', 'data/processed', 'data/results']:\n",
    "    os.makedirs(directory, exist_ok=True)"
   ]
  },
  {
   "cell_type": "markdown",
   "metadata": {},
   "source": [
    "## Collect Followers\n",
    "\n",
    "Collect followers from the target Instagram profile."
   ]
  },
  {
   "cell_type": "code",
   "execution_count": null,
   "metadata": {},
   "source": [
    "# Target profile to analyze\n",
    "target_username = input(\"Enter the Instagram username to analyze: \")\n",
    "\n",
    "# Maximum number of followers to collect\n",
    "max_followers = int(input(\"Enter the maximum number of followers to collect (default: 20000): \") or \"20000\")\n",
    "\n",
    "# Initialize follower collector\n",
    "follower_collector = FollowerCollector(auth.get_session(), storage=storage)\n",
    "\n",
    "# Collect followers\n",
    "print(f\"\\nCollecting followers for @{target_username} (max: {max_followers})...\")\n",
    "print(\"This may take some time. Please be patient.\")\n",
    "\n",
    "# Run the collection asynchronously\n",
    "async def collect_followers():\n",
    "    return await follower_collector.collect_followers(\n",
    "        username=target_username,\n",
    "        max_followers=max_followers,\n",
    "        save_interval=100\n",
    "    )\n",
    "\n",
    "# Run the collection\n",
    "followers = await collect_followers()\n",
    "\n",
    "print(f\"\\n✅ Collected {len(followers)} followers for @{target_username}\")"
   ]
  },
  {
   "cell_type": "markdown",
   "metadata": {},
   "source": [
    "## Collect Following Data\n",
    "\n",
    "For each follower, collect the accounts they follow."
   ]
  },
  {
   "cell_type": "code",
   "execution_count": null,
   "metadata": {},
   "source": [
    "# Maximum number of following to collect per user\n",
    "max_following_per_user = int(input(\"Enter the maximum number of following to collect per user (default: 1000): \") or \"1000\")\n",
    "\n",
    "# Maximum number of parallel requests\n",
    "max_parallel = int(input(\"Enter the maximum number of parallel requests (default: 3): \") or \"3\")\n",
    "\n",
    "# Initialize following collector\n",
    "following_collector = FollowingCollector(auth.get_session(), storage=storage)\n",
    "\n",
    "# Collect following data\n",
    "print(f\"\\nCollecting following data for {len(followers)} followers...\")\n",
    "print(\"This will take a significant amount of time. Please be patient.\")\n",
    "\n",
    "# Run the collection asynchronously\n",
    "async def collect_following():\n",
    "    return await following_collector.collect_following_for_followers(\n",
    "        followers=followers,\n",
    "        max_following=max_following_per_user,\n",
    "        max_parallel=max_parallel\n",
    "    )\n",
    "\n",
    "# Run the collection\n",
    "following_data = await collect_following()\n",
    "\n",
    "print(f\"\\n✅ Collected following data for {len(following_data)} followers\")"
   ]
  },
  {
   "cell_type": "markdown",
   "metadata": {},
   "source": [
    "## Process Network Data\n",
    "\n",
    "Process the collected data to generate insights."
   ]
  },
  {
   "cell_type": "code",
   "execution_count": null,
   "metadata": {},
   "source": [
    "# Initialize network processor\n",
    "processor = NetworkProcessor(storage=storage)\n",
    "\n",
    "# Get the latest followers and following data files\n",
    "followers_file = f\"followers_{target_username}_*.json.gz\"\n",
    "following_file = \"following_collection_*.json.gz\"\n",
    "\n",
    "import glob\n",
    "followers_files = sorted(glob.glob(f\"data/raw/{followers_file}\"), key=os.path.getmtime, reverse=True)\n",
    "following_files = sorted(glob.glob(f\"data/raw/{following_file}\"), key=os.path.getmtime, reverse=True)\n",
    "\n",
    "if not followers_files or not following_files:\n",
    "    print(\"❌ Could not find data files. Please check that data collection was successful.\")\n",
    "else:\n",
    "    # Load the latest data files\n",
    "    processor.load_data(\n",
    "        followers_file=os.path.basename(followers_files[0]),\n",
    "        following_file=os.path.basename(following_files[0])\n",
    "    )\n",
    "    \n",
    "    # Process the data\n",
    "    print(\"\\nProcessing network data...\")\n",
    "    rankings = processor.process_network_data()\n",
    "    \n",
    "    # Identify clusters (optional)\n",
    "    print(\"\\nIdentifying interest clusters...\")\n",
    "    clusters = processor.identify_clusters(n_clusters=5)\n",
    "    \n",
    "    print(\"\\n✅ Data processing complete\")"
   ]
  },
  {
   "cell_type": "markdown",
   "metadata": {},
   "source": [
    "## Visualize Results\n",
    "\n",
    "Create visualizations of the results."
   ]
  },
  {
   "cell_type": "code",
   "execution_count": null,
   "metadata": {},
   "source": [
    "# Initialize visualizer\n",
    "visualizer = NetworkVisualizer(storage=storage)\n",
    "\n",
    "# Create visualizations\n",
    "print(\"\\nCreating visualizations...\")\n",
    "\n",
    "# Network graph\n",
    "network_graph_path = visualizer.create_network_graph(rankings)\n",
    "\n",
    "# Follower distribution\n",
    "distribution_path = visualizer.create_follower_distribution(rankings)\n",
    "\n",
    "# Top accounts by follower count\n",
    "follower_chart_path = visualizer.create_top_accounts_bar_chart(rankings, metric='follower_count')\n",
    "\n",
    "# Top accounts by influence score\n",
    "influence_chart_path = visualizer.create_top_accounts_bar_chart(rankings, metric='influence_score')\n",
    "\n",
    "# Metric comparison\n",
    "comparison_path = visualizer.create_metric_comparison_scatter(rankings)\n",
    "\n",
    "# Cluster visualization (if clusters were identified)\n",
    "if clusters:\n",
    "    cluster_path = visualizer.create_cluster_visualization(clusters)\n",
    "\n",
    "# Create dashboard\n",
    "dashboard_path = visualizer.create_dashboard(rankings, clusters)\n",
    "\n",
    "print(\"\\n✅ Visualizations created\")"
   ]
  },
  {
   "cell_type": "markdown",
   "metadata": {},
   "source": [
    "## Display Results\n",
    "\n",
    "Display the top accounts and visualizations."
   ]
  },
  {
   "cell_type": "code",
   "execution_count": null,
   "metadata": {},
   "source": [
    "# Display top accounts by follower count\n",
    "print(\"\\n🏆 Top 10 Accounts by Follower Count:\")\n",
    "for i, account in enumerate(rankings['by_follower_count'][:10]):\n",
    "    verified = \"✓\" if account['is_verified'] else \" \"\n",
    "    print(f\"{i+1}. {verified} @{account['username']} - {account['follower_count']} followers\")"
   ]
  },
  {
   "cell_type": "code",
   "execution_count": null,
   "metadata": {},
   "source": [
    "# Display top accounts by influence score\n",
    "print(\"\\n🌟 Top 10 Accounts by Influence Score:\")\n",
    "for i, account in enumerate(rankings['by_influence_score'][:10]):\n",
    "    verified = \"✓\" if account['is_verified'] else \" \"\n",
    "    print(f\"{i+1}. {verified} @{account['username']} - {account['influence_score']:.2f} score\")"
   ]
  },
  {
   "cell_type": "code",
   "execution_count": null,
   "metadata": {},
   "source": [
    "# Display dashboard\n",
    "from IPython.display import Image, display\n",
    "\n",
    "print(\"\\n📊 Dashboard:\")\n",
    "display(Image(dashboard_path))"
   ]
  },
  {
   "cell_type": "markdown",
   "metadata": {},
   "source": [
    "## Export Results\n",
    "\n",
    "Export the results to various formats."
   ]
  },
  {
   "cell_type": "code",
   "execution_count": null,
   "metadata": {},
   "source": [
    "# Export rankings to CSV\n",
    "print(\"\\nExporting results to CSV...\")\n",
    "\n",
    "# Convert rankings to DataFrames\n",
    "follower_df = pd.DataFrame(rankings['by_follower_count'])\n",
    "influence_df = pd.DataFrame(rankings['by_influence_score'])\n",
    "penetration_df = pd.DataFrame(rankings['by_penetration_rate'])\n",
    "\n",
    "# Export to CSV\n",
    "timestamp = datetime.now().strftime('%Y%m%d_%H%M%S')\n",
    "follower_df.to_csv(f\"data/results/rankings_by_follower_{timestamp}.csv\", index=False)\n",
    "influence_df.to_csv(f\"data/results/rankings_by_influence_{timestamp}.csv\", index=False)\n",
    "penetration_df.to_csv(f\"data/results/rankings_by_penetration_{timestamp}.csv\", index=False)\n",
    "\n",
    "print(\"✅ Results exported to CSV files in the data/results directory\")"
   ]
  },
  {
   "cell_type": "markdown",
   "metadata": {},
   "source": [
    "## Conclusion\n",
    "\n",
    "You've successfully analyzed the Instagram follower network for @{target_username}. The results show the most influential accounts among their followers, which can provide valuable insights for marketing, content strategy, and audience understanding.\n",
    "\n",
    "### Next Steps\n",
    "\n",
    "- Explore the `analysis.ipynb` notebook for more detailed analysis\n",
    "- Run this analysis for different target accounts to compare results\n",
    "- Adjust parameters like `max_followers` and `max_following_per_user` to balance depth and runtime\n",
    "\n",
    "### Important Notes\n",
    "\n",
    "- This analysis respects Instagram's rate limits to avoid blocks\n",
    "- The session cookie is only used for authentication and is not stored or shared\n",
    "- All data is stored locally and/or in your GCS bucket if configured"
   ]
  }
 ],
 "metadata": {
  "kernelspec": {
   "display_name": "Python 3",
   "language": "python",
   "name": "python3"
  },
  "language_info": {
   "codemirror_mode": {
    "name": "ipython",
    "version": 3
   },
   "file_extension": ".py",
   "mimetype": "text/x-python",
   "name": "python",
   "nbconvert_exporter": "python",
   "pygments_lexer": "ipython3",
   "version": "3.8.10"
  }
 },
 "nbformat": 4,
 "nbformat_minor": 4
}
